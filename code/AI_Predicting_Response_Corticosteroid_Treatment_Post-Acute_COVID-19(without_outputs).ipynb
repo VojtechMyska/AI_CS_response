{
  "cells": [
    {
      "cell_type": "markdown",
      "metadata": {
        "pycharm": {
          "name": "#%% md\n"
        },
        "id": "la_UfaMU7nE5"
      },
      "source": [
        "### Import libraries"
      ]
    },
    {
      "cell_type": "code",
      "execution_count": null,
      "metadata": {
        "pycharm": {
          "name": "#%%\n"
        },
        "id": "A85hbCgR7nE7"
      },
      "outputs": [],
      "source": [
        "import warnings\n",
        "\n",
        "import matplotlib.pyplot as plt\n",
        "import numpy as np\n",
        "import pandas as pd\n",
        "import seaborn as sns\n",
        "import shap\n",
        "\n",
        "from sklearn.metrics import roc_auc_score, f1_score, precision_score, recall_score, balanced_accuracy_score\n",
        "from sklearn.metrics import accuracy_score, confusion_matrix\n",
        "from sklearn import tree\n",
        "from sklearn.feature_selection import SelectKBest\n",
        "from sklearn.model_selection import RandomizedSearchCV, KFold\n",
        "from sklearn.neural_network import MLPClassifier\n",
        "from sklearn.neighbors import KNeighborsClassifier\n",
        "from sklearn.svm import SVC\n",
        "from sklearn.tree import DecisionTreeClassifier\n",
        "from sklearn.ensemble import RandomForestClassifier, AdaBoostClassifier\n",
        "from sklearn.linear_model import LogisticRegression\n",
        "from xgboost import XGBClassifier\n",
        "from numpy import unique\n",
        "\n",
        "from lightgbm import LGBMClassifier\n",
        "\n",
        "warnings.filterwarnings(\"ignore\")\n",
        "np.seterr(invalid='ignore')"
      ]
    },
    {
      "cell_type": "markdown",
      "metadata": {
        "pycharm": {
          "name": "#%% md\n"
        },
        "id": "0B4uA8_E7nE8"
      },
      "source": [
        "## Data preparation"
      ]
    },
    {
      "cell_type": "markdown",
      "metadata": {
        "pycharm": {
          "name": "#%% md\n"
        },
        "id": "SyZzx5x-7nE8"
      },
      "source": [
        "#### Train set"
      ]
    },
    {
      "cell_type": "code",
      "execution_count": null,
      "metadata": {
        "pycharm": {
          "name": "#%%\n"
        },
        "id": "J9ybOw-27nE9"
      },
      "outputs": [],
      "source": [
        "train_df = pd.read_excel(\n",
        "    'FNOL_PulFib2022_train.xlsx',\n",
        "    header=0)\n",
        "train_df = train_df.drop(columns=[\"Unnamed: 0\", ])\n",
        "\n",
        "X_train = train_df.drop(columns=[\"CS_recommended\", \"ID\"])\n",
        "y_train = train_df[\"CS_recommended\"]\n",
        "y_train.replace([-1], [0], inplace=True)\n",
        "train_df\n"
      ]
    },
    {
      "cell_type": "markdown",
      "metadata": {
        "pycharm": {
          "name": "#%% md\n"
        },
        "id": "YLidsrwQ7nE9"
      },
      "source": [
        "#### Test set"
      ]
    },
    {
      "cell_type": "code",
      "execution_count": null,
      "metadata": {
        "pycharm": {
          "name": "#%%\n"
        },
        "id": "74mKBSZH7nE-"
      },
      "outputs": [],
      "source": [
        "test_df = pd.read_excel(\n",
        "    'FNOL_PulFib2022_test.xlsx', header=0)\n",
        "test_df = test_df.drop(columns=[\"Unnamed: 0\", ])\n",
        "\n",
        "X_test = test_df.drop(columns=[\"CS_recommended\", \"ID\"])\n",
        "y_test = test_df[\"CS_recommended\"]\n",
        "y_test.replace([-1], [0], inplace=True)\n",
        "test_df\n"
      ]
    },
    {
      "cell_type": "markdown",
      "source": [
        "#### All data"
      ],
      "metadata": {
        "collapsed": false,
        "pycharm": {
          "name": "#%% md\n"
        },
        "id": "v20jPgX_7nE-"
      }
    },
    {
      "cell_type": "code",
      "execution_count": null,
      "outputs": [],
      "source": [
        "all_data_df = pd.concat([train_df, test_df])\n",
        "\n",
        "all_data_x = all_data_df.drop(columns=[\"CS_recommended\", \"ID\"])\n",
        "all_data_y = all_data_df[\"CS_recommended\"]\n",
        "all_data_df"
      ],
      "metadata": {
        "pycharm": {
          "name": "#%%\n"
        },
        "id": "0rz_qGxn7nE_"
      }
    },
    {
      "cell_type": "markdown",
      "metadata": {
        "pycharm": {
          "name": "#%% md\n"
        },
        "id": "m7raGwR47nFA"
      },
      "source": [
        "#### Train distribution"
      ]
    },
    {
      "cell_type": "code",
      "execution_count": null,
      "metadata": {
        "pycharm": {
          "name": "#%%\n"
        },
        "id": "3YhP84o67nFA"
      },
      "outputs": [],
      "source": [
        "sns.set_theme(style=\"whitegrid\")\n",
        "\n",
        "ax = sns.countplot(y=\"CS_recommended\", data=train_df, alpha=1, palette=\"Paired\")\n",
        "total = train_df.shape[0]\n",
        "\n",
        "for p in ax.patches:\n",
        "    percentage = '{:.1f}%'.format(100 * p.get_width() / total)\n",
        "    x = p.get_x() + p.get_width()\n",
        "    y = p.get_y() + p.get_height() / 2\n",
        "    ax.annotate(percentage, (x, y))\n",
        "\n",
        "print(train_df.groupby('CS_recommended').size())\n",
        "plt.show()\n"
      ]
    },
    {
      "cell_type": "markdown",
      "metadata": {
        "pycharm": {
          "name": "#%% md\n"
        },
        "id": "rzx5WjGi7nFA"
      },
      "source": [
        "#### Test distribution"
      ]
    },
    {
      "cell_type": "code",
      "execution_count": null,
      "metadata": {
        "pycharm": {
          "name": "#%%\n"
        },
        "id": "eiWo33zn7nFB"
      },
      "outputs": [],
      "source": [
        "ax = sns.countplot(y=\"CS_recommended\", data=test_df, alpha=1, palette=\"Paired\")\n",
        "total = test_df.shape[0]\n",
        "\n",
        "for p in ax.patches:\n",
        "    percentage = '{:.1f}%'.format(100 * p.get_width() / total)\n",
        "    x = p.get_x() + p.get_width()\n",
        "    y = p.get_y() + p.get_height() / 2\n",
        "    ax.annotate(percentage, (x, y))\n",
        "\n",
        "print(test_df.groupby('CS_recommended').size())\n",
        "plt.show()"
      ]
    },
    {
      "cell_type": "markdown",
      "metadata": {
        "pycharm": {
          "name": "#%% md\n"
        },
        "id": "HD1b3pj_7nFB"
      },
      "source": [
        "## Feature selection"
      ]
    },
    {
      "cell_type": "markdown",
      "metadata": {
        "pycharm": {
          "name": "#%% md\n"
        },
        "id": "g5Tir5q17nFB"
      },
      "source": [
        "#### Shap"
      ]
    },
    {
      "cell_type": "code",
      "execution_count": null,
      "metadata": {
        "pycharm": {
          "name": "#%%\n"
        },
        "id": "sfyeB5G97nFC"
      },
      "outputs": [],
      "source": [
        "reg = DecisionTreeClassifier(random_state=2)\n",
        "reg.fit(X_train, y_train)\n",
        "\n",
        "r2_score = reg.score(X_test, y_test)\n",
        "print(r2_score)\n",
        "\n",
        "shap_values = shap.TreeExplainer(reg, ).shap_values(X_test)\n",
        "shap.summary_plot(shap_values, X_train, class_names=['No regression', 'Regression'], show=False)\n"
      ]
    },
    {
      "cell_type": "markdown",
      "metadata": {
        "pycharm": {
          "name": "#%% md\n"
        },
        "id": "HdWSmH-N7nFC"
      },
      "source": [
        "#### K best"
      ]
    },
    {
      "cell_type": "code",
      "execution_count": null,
      "metadata": {
        "pycharm": {
          "name": "#%%\n"
        },
        "id": "ZoV-b9D-7nFC"
      },
      "outputs": [],
      "source": [
        "fs = SelectKBest(k=25)\n",
        "fs.fit(all_data_x, all_data_y)\n",
        "\n",
        "mask = fs.get_support()\n",
        "new_features = all_data_x.columns[mask]\n",
        "\n",
        "new_features"
      ]
    },
    {
      "cell_type": "markdown",
      "metadata": {
        "pycharm": {
          "name": "#%% md\n"
        },
        "id": "Dl3ItQAK7nFC"
      },
      "source": [
        "#### Select features"
      ]
    },
    {
      "cell_type": "code",
      "execution_count": null,
      "metadata": {
        "pycharm": {
          "name": "#%%\n"
        },
        "id": "12XX7HGI7nFD"
      },
      "outputs": [],
      "source": [
        "select_feature = unique(['pneumonia', 'CS_another_problems', 'CS', 'olfactory_loss', 'postcovid_disability',\n",
        "                         'SARS - CoV - 2 IgG(qualit.)', 'SARS - CoV - 2 IgM(quant.)', 'CS_amount', 'CS_total',\n",
        "                         'CS_duration_weeks', 'KO_RDW', 'VC(abs)', 'FVC( % pred)', 'FEV1(abs)', 'KO_Mo %',\n",
        "                         'PEF( % pred)', 'DLCOc_SB(abs)', 'KCO_SB(abs)', 'persistent_cough', 'persistent_dyspnea',\n",
        "                         'MEF25(abs)',\n",
        "                         ])\n",
        "\n",
        "x_train_filtered = X_train[select_feature]\n",
        "x_test_filtered = X_test[select_feature]"
      ]
    },
    {
      "cell_type": "markdown",
      "metadata": {
        "pycharm": {
          "name": "#%% md\n"
        },
        "id": "uT0UpI3U7nFD"
      },
      "source": [
        "## Train and test (Manual)"
      ]
    },
    {
      "cell_type": "code",
      "execution_count": null,
      "metadata": {
        "pycharm": {
          "name": "#%%\n"
        },
        "id": "2glzjTux7nFD"
      },
      "outputs": [],
      "source": [
        "def get_scores(report_df, model, X_test, y_test, name):\n",
        "    report = pd.DataFrame(data={\n",
        "        'Accuracy': [model.score(X_test, y_test)],\n",
        "        'Balanced accuracy': [balanced_accuracy_score(y_test, model.predict(X_test))],\n",
        "        'ROC-AUC': [roc_auc_score(y_test, model.predict_proba(X_test)[:, 1])],\n",
        "        'F1': [f1_score(y_test, model.predict(X_test))],\n",
        "        'Precision': [precision_score(y_test, model.predict(X_test), average=\"binary\")],\n",
        "        'Recall': [recall_score(y_test, model.predict(X_test), average=\"binary\")]\n",
        "    })\n",
        "\n",
        "    report.index = [name]\n",
        "    report_df = report_df.append(report)\n",
        "    return report_df"
      ]
    },
    {
      "cell_type": "code",
      "execution_count": null,
      "outputs": [],
      "source": [
        "df_report = pd.DataFrame()\n",
        "results_dict = {}"
      ],
      "metadata": {
        "pycharm": {
          "name": "#%%\n"
        },
        "id": "heKcoYxy7nFD"
      }
    },
    {
      "cell_type": "code",
      "execution_count": null,
      "metadata": {
        "pycharm": {
          "name": "#%%\n"
        },
        "id": "2aUGP0Il7nFE"
      },
      "outputs": [],
      "source": [
        "alg_lr = LogisticRegression(class_weight='balanced')\n",
        "alg_DT = DecisionTreeClassifier(random_state=2022, max_depth=6, min_samples_leaf=8, max_features='auto')\n",
        "alg_RF = RandomForestClassifier(criterion='entropy', random_state=2022, max_depth=6)\n",
        "alg_MLP = MLPClassifier(hidden_layer_sizes=(70, 8), solver='adam', random_state=42, max_iter=80, activation=\"relu\")\n",
        "alg_KN = KNeighborsClassifier(weights='distance', n_neighbors=5)\n",
        "alg_SVC = SVC(random_state=42, C=3, probability=True, class_weight='balanced', kernel=\"sigmoid\")\n",
        "alg_adaboost = AdaBoostClassifier(n_estimators=12, random_state=42, learning_rate=0.8)\n",
        "alg_xgboost = XGBClassifier(max_depth=10, eval_metric='logloss', seed=4)\n",
        "\n",
        "alg_lgbm = LGBMClassifier(class_weight='balanced', learning_rate=0.5, max_depth=3)\n",
        "\n",
        "alg_list = [alg_lr, alg_MLP, alg_DT, alg_RF, alg_KN, alg_SVC, alg_adaboost, alg_xgboost, alg_lgbm]\n",
        "\n",
        "for reg in alg_list:\n",
        "    #Train and test\n",
        "    reg.fit(x_train_filtered, y_train)\n",
        "    score = reg.score(x_test_filtered, y_test)\n",
        "    print(type(reg).__name__)\n",
        "    print(score)\n",
        "    predicts = reg.predict(x_test_filtered)\n",
        "    cm = confusion_matrix(y_test, predicts)\n",
        "\n",
        "    #Plot confusion matrix\n",
        "    plt.figure(figsize=(9, 9))\n",
        "    sns.heatmap(cm, annot=True, fmt=\".3f\", linewidths=.5, square=True, cmap='Blues_r')\n",
        "    plt.ylabel('Actual label')\n",
        "    plt.xlabel('Predicted label')\n",
        "    all_sample_title = '{0}. Accuracy Score: {1}'.format(type(reg).__name__, score)\n",
        "    plt.title(all_sample_title, size=15)\n",
        "\n",
        "    #Add to report\n",
        "    df_report = get_scores(df_report, reg, x_test_filtered,\n",
        "                           y_test, type(reg).__name__)"
      ]
    },
    {
      "cell_type": "code",
      "execution_count": null,
      "metadata": {
        "pycharm": {
          "name": "#%%\n"
        },
        "id": "DUbqmvJd7nFE"
      },
      "outputs": [],
      "source": [
        "df_report"
      ]
    },
    {
      "cell_type": "markdown",
      "metadata": {
        "pycharm": {
          "name": "#%% md\n"
        },
        "id": "Wz2zwPEW7nFE"
      },
      "source": [
        "### Train and test (with RandomizedSearchCV)"
      ]
    },
    {
      "cell_type": "code",
      "execution_count": null,
      "metadata": {
        "pycharm": {
          "name": "#%%\n"
        },
        "id": "7BmCx3fS7nFE"
      },
      "outputs": [],
      "source": [
        "df_report_2 = pd.DataFrame()\n",
        "num_iteration = 150\n",
        "cv_inner = KFold(n_splits=5, random_state=42, shuffle=True)"
      ]
    },
    {
      "cell_type": "code",
      "execution_count": null,
      "metadata": {
        "pycharm": {
          "name": "#%%\n"
        },
        "id": "jupWhaJH7nFE"
      },
      "outputs": [],
      "source": [
        "def xval_test(model, space, df_report, draw_dt=False):\n",
        "    acc_best = 0\n",
        "    yhat = 0\n",
        "    params_best = dict()\n",
        "\n",
        "    for i in range(0, num_iteration):\n",
        "        search = RandomizedSearchCV(model, space, scoring='roc_auc', random_state=42, cv=cv_inner, refit=True)\n",
        "        result = search.fit(x_train_filtered, y_train)\n",
        "        best_model = result.best_estimator_\n",
        "        yhat_temp = best_model.predict(x_test_filtered)\n",
        "        acc = accuracy_score(y_test, yhat_temp)\n",
        "        if acc_best < acc:\n",
        "            best_model_save = best_model\n",
        "            params_best = result.best_params_\n",
        "            acc_best = acc\n",
        "            yhat = yhat_temp\n",
        "\n",
        "    print(type(best_model_save).__name__)\n",
        "    print('>acc=%.3f, cfg=%s' % (acc_best, params_best))\n",
        "    print('Accuracy: %.3f ' % acc_best)\n",
        "    cm = confusion_matrix(y_test, yhat, normalize='all')\n",
        "\n",
        "    #Plot confusion matrix\n",
        "    plt.figure(figsize=(9, 9))\n",
        "    sns.heatmap(cm, annot=True, fmt=\".3f\", linewidths=.5, square=True, cmap='Blues_r')\n",
        "    plt.ylabel('Actual label')\n",
        "    plt.xlabel('Predicted label')\n",
        "    plt.title('{0}. Accuracy Score: {1}'.format(type(best_model_save).__name__, acc_best), size=15)\n",
        "\n",
        "    # Reports\n",
        "    df_report = get_scores(df_report, best_model_save, x_test_filtered,\n",
        "                           y_test, type(best_model_save).__name__)\n",
        "\n",
        "    if draw_dt:\n",
        "        fig = plt.figure(figsize=(25, 20))\n",
        "        _ = tree.plot_tree(best_model_save,\n",
        "                           feature_names=select_feature,\n",
        "                           class_names=['0', '1'],\n",
        "                           filled=True)\n",
        "        fig.savefig(\"decision_tree.svg\", format='svg', dpi=1200)\n",
        "\n",
        "    return df_report"
      ]
    },
    {
      "cell_type": "code",
      "execution_count": null,
      "metadata": {
        "pycharm": {
          "name": "#%%\n"
        },
        "id": "-2_ZHOrN7nFF"
      },
      "outputs": [],
      "source": [
        "alg_RF = RandomForestClassifier(random_state=2022)\n",
        "alg_lr = LogisticRegression(class_weight='balanced')\n",
        "alg_DT = DecisionTreeClassifier(random_state=2022)\n",
        "alg_MLP = MLPClassifier(random_state=42)\n",
        "alg_KN = KNeighborsClassifier()\n",
        "alg_SVC = SVC(random_state=42, probability=True, class_weight='balanced')\n",
        "alg_adboost = AdaBoostClassifier(random_state=42)\n",
        "alg_xgboost = XGBClassifier(eval_metric='logloss')\n",
        "alg_lgbm = LGBMClassifier(class_weight='balanced')\n",
        "\n",
        "space_rf = {\n",
        "    \"n_estimators\": [i for i in range(1, 60, 3)],\n",
        "    \"max_features\": [i for i in range(1, 15)],\n",
        "    \"max_depth\": [i for i in range(2, 10)],\n",
        "    \"criterion\": [\"gini\", \"entropy\"]\n",
        "}\n",
        "\n",
        "space_lr = {\n",
        "    \"C\": np.linspace(0, 10, 100),\n",
        "    \"solver\": ['newton-cg', 'lbfgs', 'liblinear', 'sag', 'saga']\n",
        "}\n",
        "\n",
        "space_dt = {\n",
        "    \"max_features\": [\"auto\", \"sqrt\", \"log2\"],\n",
        "    \"max_depth\": [i for i in range(2, 15)],\n",
        "    \"criterion\": [\"gini\", \"entropy\"],\n",
        "    \"min_samples_leaf\": [i for i in range(1, 20)],\n",
        "}\n",
        "\n",
        "space_mlp = {\n",
        "    \"solver\": ['lbfgs', 'sgd', 'adam'],\n",
        "    \"hidden_layer_sizes\": [i for i in range(2, 200)],\n",
        "    \"max_iter\": [i for i in range(2, 150)],\n",
        "}\n",
        "\n",
        "space_kn = {\n",
        "    \"n_neighbors\": [i for i in range(2, 30)],\n",
        "    \"weights\": ['uniform', 'distance'],\n",
        "    \"algorithm\": ['auto', 'ball_tree', 'kd_tree', 'brute'],\n",
        "}\n",
        "\n",
        "space_svc = {\n",
        "    \"C\": np.linspace(0, 10, 100),\n",
        "    \"kernel\": ['poly', 'rbf']\n",
        "}\n",
        "\n",
        "space_adboost = {\n",
        "    \"learning_rate\": np.linspace(0, 1, 10),\n",
        "    \"n_estimators\": [i for i in range(1, 30)]\n",
        "}\n",
        "\n",
        "space_xgboost = {\n",
        "    \"max_depth\": [3, 4, 5, 7],\n",
        "    \"learning_rate\": [0.1, 0.01, 0.05],\n",
        "    \"gamma\": [0, 0.25, 1],\n",
        "    \"reg_lambda\": [0, 1, 10],\n",
        "    \"scale_pos_weight\": [1, 3, 5],\n",
        "    \"subsample\": [0.8],\n",
        "    \"colsample_bytree\": [0.5],\n",
        "}\n",
        "\n",
        "space_lgbm = {'learning_rate': [0.005, 0.1],\n",
        "              'num_leaves': [i for i in range(1, 20)],\n",
        "              }\n",
        "\n"
      ]
    },
    {
      "cell_type": "code",
      "execution_count": null,
      "metadata": {
        "pycharm": {
          "name": "#%%\n"
        },
        "id": "sJAUquSe7nFF"
      },
      "outputs": [],
      "source": [
        "df_report_2 = xval_test(alg_RF, space_rf, df_report_2)\n",
        "df_report_2 = xval_test(alg_lr, space_lr, df_report_2)\n",
        "df_report_2 = xval_test(alg_DT, space_dt, df_report_2, True)\n",
        "df_report_2 = xval_test(alg_MLP, space_mlp, df_report_2)\n",
        "df_report_2 = xval_test(alg_KN, space_kn, df_report_2)\n",
        "df_report_2 = xval_test(alg_SVC, space_svc, df_report_2)\n",
        "df_report_2 = xval_test(alg_adboost, space_adboost, df_report_2)\n",
        "df_report_2 = xval_test(alg_xgboost, space_xgboost, df_report_2)\n",
        "df_report_2 = xval_test(alg_lgbm, space_lgbm, df_report_2)"
      ]
    },
    {
      "cell_type": "code",
      "execution_count": null,
      "metadata": {
        "pycharm": {
          "name": "#%%\n"
        },
        "id": "1I2mUXbo7nFF"
      },
      "outputs": [],
      "source": [
        "df_report_2"
      ]
    }
  ],
  "metadata": {
    "kernelspec": {
      "display_name": "Python 3 (ipykernel)",
      "language": "python",
      "name": "python3"
    },
    "language_info": {
      "codemirror_mode": {
        "name": "ipython",
        "version": 3
      },
      "file_extension": ".py",
      "mimetype": "text/x-python",
      "name": "python",
      "nbconvert_exporter": "python",
      "pygments_lexer": "ipython3",
      "version": "3.8.0"
    },
    "colab": {
      "provenance": [],
      "collapsed_sections": []
    }
  },
  "nbformat": 4,
  "nbformat_minor": 0
}